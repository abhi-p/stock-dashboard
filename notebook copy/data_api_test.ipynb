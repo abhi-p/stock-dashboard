{
 "cells": [
  {
   "cell_type": "code",
   "execution_count": null,
   "id": "d5f24a60",
   "metadata": {},
   "outputs": [
    {
     "name": "stderr",
     "output_type": "stream",
     "text": [
      "2025-04-17 09:09:45.071 Thread 'MainThread': missing ScriptRunContext! This warning can be ignored when running in bare mode.\n",
      "2025-04-17 09:09:45.072 Thread 'MainThread': missing ScriptRunContext! This warning can be ignored when running in bare mode.\n"
     ]
    }
   ],
   "source": [
    "import streamlit as st\n",
    "import requests\n",
    "import pandas as pd\n",
    "import plotly.graph_objs as go\n",
    "\n",
    "API_KEY = st.secrets[\"api\"][\"alpha_vantage_api\"]\n",
    "\n",
    "\n",
    "\n",
    "def get_intraday_data(symbol):\n",
    "    url = f\"https://www.alphavantage.co/query?function=TIME_SERIES_INTRADAY&symbol={symbol}&interval=5min&apikey={API_KEY}\"\n",
    "    try:\n",
    "        response = requests.get(url)\n",
    "    except requests.exceptions.RequestException as e:\n",
    "        print(f\"Error fetching data for {symbol}: {e}\")\n",
    "        return None\n",
    "\n",
    "    if response.status_code != 200:\n",
    "        st.error(f\"Error fetching data for {symbol}\")\n",
    "        return None\n",
    "    \n",
    "    data = response.json()\n",
    "    time_series_key = \"Time Series (5min)\"\n",
    "    \n",
    "    if time_series_key not in data:\n",
    "        st.error(f\"No data found for {symbol}. Check the ticker or API limits.\")\n",
    "        return None\n",
    "\n",
    "    # Convert JSON data to DataFrame\n",
    "    df = pd.DataFrame.from_dict(data[time_series_key], orient=\"index\")\n",
    "    \n",
    "    # Rename columns\n",
    "    df = df.rename(columns={\n",
    "        \"1. open\": \"Open\",\n",
    "        \"2. high\": \"High\",\n",
    "        \"3. low\": \"Low\",\n",
    "        \"4. close\": \"Close\",\n",
    "        \"5. volume\": \"Volume\"\n",
    "    })\n",
    "    \n",
    "    df.index = pd.to_datetime(df.index)  # Convert index to datetime\n",
    "    df = df.sort_index()  # Ensure chronological order\n",
    "    \n",
    "    return df\n",
    "\n",
    "stock='APPL'\n",
    "df_alpha = get_intraday_data(stock)\n"
   ]
  },
  {
   "cell_type": "code",
   "execution_count": 14,
   "id": "ce9ada59",
   "metadata": {},
   "outputs": [],
   "source": [
    "df_alpha"
   ]
  },
  {
   "cell_type": "code",
   "execution_count": null,
   "id": "6faa5f43",
   "metadata": {},
   "outputs": [],
   "source": []
  }
 ],
 "metadata": {
  "kernelspec": {
   "display_name": "stock-dash",
   "language": "python",
   "name": "python3"
  },
  "language_info": {
   "codemirror_mode": {
    "name": "ipython",
    "version": 3
   },
   "file_extension": ".py",
   "mimetype": "text/x-python",
   "name": "python",
   "nbconvert_exporter": "python",
   "pygments_lexer": "ipython3",
   "version": "3.13.2"
  }
 },
 "nbformat": 4,
 "nbformat_minor": 5
}
